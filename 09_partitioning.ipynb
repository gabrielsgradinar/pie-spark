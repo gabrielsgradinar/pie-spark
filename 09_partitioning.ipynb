{
 "cells": [
  {
   "cell_type": "markdown",
   "id": "5ec3a908",
   "metadata": {},
   "source": [
    "### Problemas que o particionamento resolve\n",
    " - Acesso rápido/fácil aos dados\n",
    " - Paralelismo / Utilizacão de recursos\n",
    "\n",
    "### Fatores para escolher uma coluna para o particionamento\n",
    " - Cardinalidade da coluna\n",
    "    - alta cardinalidade\n",
    "        - pode acabar criando muitas partições disnecessárias\n",
    "    - baixa/médica cardinalidade\n",
    "        - pode criar poucas particões, não fazendo diferença\n",
    " - Escolher uma coluna que crie uma quantidade relevante de particões para usar o spark do melhor jeito\n",
    " - Colunas que são muito usadas nos filtros de quem consulta esses dados"
   ]
  },
  {
   "cell_type": "code",
   "execution_count": 1,
   "id": "d652a085-9c10-414e-bda9-b52cb0028770",
   "metadata": {},
   "outputs": [],
   "source": [
    "import os\n",
    "os.environ[\"SPARK_HOME\"] = \"/opt/spark\"\n",
    "os.environ[\"PYSPARK_DRIVER_PYTHON\"] = \"jupyter\"\n",
    "os.environ[\"PYSPARK_DRIVER_PYTHON_OPTS\"] = \"lab\"\n",
    "os.environ[\"PYSPARK_PYTHON\"] = \"python\""
   ]
  },
  {
   "cell_type": "code",
   "execution_count": 2,
   "id": "9922123a",
   "metadata": {},
   "outputs": [
    {
     "name": "stderr",
     "output_type": "stream",
     "text": [
      "24/04/10 09:43:53 WARN Utils: Your hostname, pc resolves to a loopback address: 127.0.1.1; using 192.168.15.28 instead (on interface enp7s0)\n",
      "24/04/10 09:43:53 WARN Utils: Set SPARK_LOCAL_IP if you need to bind to another address\n",
      "Setting default log level to \"WARN\".\n",
      "To adjust logging level use sc.setLogLevel(newLevel). For SparkR, use setLogLevel(newLevel).\n",
      "24/04/10 09:43:53 WARN NativeCodeLoader: Unable to load native-hadoop library for your platform... using builtin-java classes where applicable\n"
     ]
    }
   ],
   "source": [
    "from pyspark.sql import SparkSession\n",
    "\n",
    "spark = SparkSession.builder.appName(\"Partitioning\").getOrCreate()"
   ]
  },
  {
   "cell_type": "code",
   "execution_count": 3,
   "id": "72040091",
   "metadata": {},
   "outputs": [
    {
     "name": "stdout",
     "output_type": "stream",
     "text": [
      "+------------------+---+------+------+\n",
      "|              name|age|gender|salary|\n",
      "+------------------+---+------+------+\n",
      "|          John Doe| 30|  Male| 50000|\n",
      "|        Jane Smith| 25|Female| 45000|\n",
      "|     David Johnson| 35|  Male| 60000|\n",
      "|       Emily Davis| 28|Female| 52000|\n",
      "|    Michael Wilson| 40|  Male| 75000|\n",
      "|       Sarah Brown| 32|Female| 58000|\n",
      "|        Robert Lee| 29|  Male| 51000|\n",
      "|       Lisa Garcia| 27|Female| 49000|\n",
      "|    James Martinez| 38|  Male| 70000|\n",
      "|Jennifer Rodriguez| 26|Female| 47000|\n",
      "+------------------+---+------+------+\n",
      "only showing top 10 rows\n",
      "\n"
     ]
    }
   ],
   "source": [
    "data_file_path = \"./data/persons.csv\"\n",
    "\n",
    "df = spark.read.csv(data_file_path, header=True, inferSchema=True)\n",
    "df.show(10)"
   ]
  },
  {
   "cell_type": "code",
   "execution_count": 4,
   "id": "7837d6fc",
   "metadata": {},
   "outputs": [],
   "source": [
    "(\n",
    "    df\n",
    "    .write\n",
    "    .partitionBy(\"gender\")\n",
    "    .mode(\"overwrite\")\n",
    "    .parquet(\"./data/partitioning/persons_pt\")\n",
    ")"
   ]
  }
 ],
 "metadata": {
  "kernelspec": {
   "display_name": "Python 3 (ipykernel)",
   "language": "python",
   "name": "python3"
  },
  "language_info": {
   "codemirror_mode": {
    "name": "ipython",
    "version": 3
   },
   "file_extension": ".py",
   "mimetype": "text/x-python",
   "name": "python",
   "nbconvert_exporter": "python",
   "pygments_lexer": "ipython3",
   "version": "3.12.2"
  }
 },
 "nbformat": 4,
 "nbformat_minor": 5
}
